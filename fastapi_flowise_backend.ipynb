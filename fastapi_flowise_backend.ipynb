{
  "nbformat": 4,
  "nbformat_minor": 0,
  "metadata": {
    "colab": {
      "provenance": [],
      "authorship_tag": "ABX9TyP1Ovv3/AH7TDTIWAZS2fyY",
      "include_colab_link": true
    },
    "kernelspec": {
      "name": "python3",
      "display_name": "Python 3"
    },
    "language_info": {
      "name": "python"
    }
  },
  "cells": [
    {
      "cell_type": "markdown",
      "metadata": {
        "id": "view-in-github",
        "colab_type": "text"
      },
      "source": [
        "<a href=\"https://colab.research.google.com/github/Humzah001/Flowise-PDF-Chatbot-FastAPI-Endpoint/blob/main/fastapi_flowise_backend.ipynb\" target=\"_parent\"><img src=\"https://colab.research.google.com/assets/colab-badge.svg\" alt=\"Open In Colab\"/></a>"
      ]
    },
    {
      "cell_type": "code",
      "execution_count": null,
      "metadata": {
        "id": "zM3AJk0HslJn"
      },
      "outputs": [],
      "source": [
        "!pip install fastapi nest-asyncio pyngrok uvicorn"
      ]
    },
    {
      "cell_type": "code",
      "source": [
        "!uvicorn main:app --reload"
      ],
      "metadata": {
        "colab": {
          "base_uri": "https://localhost:8080/"
        },
        "id": "80TGZ__8sryI",
        "outputId": "77bd2b62-0de5-4389-ce6c-5b94a3fc21a8"
      },
      "execution_count": null,
      "outputs": [
        {
          "output_type": "stream",
          "name": "stdout",
          "text": [
            "/bin/bash: uvicorn: command not found\n"
          ]
        }
      ]
    },
    {
      "cell_type": "code",
      "source": [
        "from fastapi import FastAPI, File, UploadFile\n",
        "from fastapi.middleware.cors import CORSMiddleware\n",
        "from pyngrok import ngrok\n",
        "import uvicorn\n",
        "from typing import Annotated\n",
        "from fastapi import FastAPI\n",
        "import nest_asyncio\n",
        "from pydantic import BaseModel\n",
        "import requests\n",
        "\n",
        "app = FastAPI()\n",
        "\n",
        "@app.post('/')\n",
        "def flowise_endpoint(p: str):\n",
        "\n",
        "\n",
        "    API_URL = \"https://flowiseaiapp--zulelee.repl.co/api/v1/prediction/f4141b6b-0d1f-4a29-be9a-e838aa597067\"\n",
        "    input = {\n",
        "    \"question\": p,\n",
        "    }\n",
        "    response = requests.post(API_URL, json=input)\n",
        "    xyz = response.json()\n",
        "    return (xyz)\n",
        "\n",
        "\n",
        "ngrok.set_auth_token(\"2RnhHsTNA7aSE5aLRBogzVxPmDd_5MUj2ckcUMZcJ1786CRs3\")\n",
        "# Connect Ngrok to the same port as the Uvicorn server\n",
        "ngrok_tunnel = ngrok.connect(8000)\n",
        "print('Public URL:', ngrok_tunnel.public_url)\n",
        "nest_asyncio.apply()\n",
        "uvicorn.run(app, port=8000)\n"
      ],
      "metadata": {
        "colab": {
          "base_uri": "https://localhost:8080/"
        },
        "id": "uoKCpljwsvbB",
        "outputId": "9cf9fe15-8668-48f8-db50-3453e4670a86"
      },
      "execution_count": null,
      "outputs": [
        {
          "output_type": "stream",
          "name": "stdout",
          "text": []
        },
        {
          "output_type": "stream",
          "name": "stderr",
          "text": [
            "WARNING:pyngrok.process.ngrok:t=2023-07-10T18:37:40+0000 lvl=warn msg=\"ngrok config file found at legacy location, move to XDG location\" xdg_path=/root/.config/ngrok/ngrok.yml legacy_path=/root/.ngrok2/ngrok.yml\n",
            "INFO:     Started server process [377]\n",
            "INFO:     Waiting for application startup.\n",
            "INFO:     Application startup complete.\n",
            "INFO:     Uvicorn running on http://127.0.0.1:8000 (Press CTRL+C to quit)\n"
          ]
        },
        {
          "output_type": "stream",
          "name": "stdout",
          "text": [
            "Public URL: https://7378-35-230-166-113.ngrok-free.app\n",
            "INFO:     119.155.35.158:0 - \"GET / HTTP/1.1\" 405 Method Not Allowed\n",
            "INFO:     119.155.35.158:0 - \"GET /favicon.ico HTTP/1.1\" 404 Not Found\n",
            "INFO:     119.155.35.158:0 - \"GET /docs HTTP/1.1\" 200 OK\n",
            "INFO:     119.155.35.158:0 - \"GET /openapi.json HTTP/1.1\" 200 OK\n"
          ]
        },
        {
          "output_type": "stream",
          "name": "stderr",
          "text": [
            "INFO:     Shutting down\n",
            "INFO:     Waiting for application shutdown.\n",
            "INFO:     Application shutdown complete.\n",
            "INFO:     Finished server process [377]\n"
          ]
        }
      ]
    }
  ]
}