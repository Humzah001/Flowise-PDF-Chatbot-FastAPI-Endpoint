{
  "cells": [
    {
      "cell_type": "markdown",
      "metadata": {
        "id": "view-in-github",
        "colab_type": "text"
      },
      "source": [
        "<a href=\"https://colab.research.google.com/github/Humzah001/Flowise-PDF-Chatbot-FastAPI-Endpoint/blob/main/fastapi_Flowise_Fronted.ipynb\" target=\"_parent\"><img src=\"https://colab.research.google.com/assets/colab-badge.svg\" alt=\"Open In Colab\"/></a>"
      ]
    },
    {
      "cell_type": "code",
      "execution_count": null,
      "metadata": {
        "id": "lkU6Cq2v--fB"
      },
      "outputs": [],
      "source": [
        "!pip install openai streamlit requests"
      ]
    },
    {
      "cell_type": "code",
      "execution_count": null,
      "metadata": {
        "id": "mFkpASUc-zSk"
      },
      "outputs": [],
      "source": [
        "#%%writefile app.py\n",
        "import openai\n",
        "import streamlit as st\n",
        "import requests\n",
        "\n",
        "st.title(\"Chat-Bot\")\n",
        "key_words = st.text_input(\"Enter chat\")\n",
        "\n",
        "if st.button(\"chat\"):\n",
        "    response = requests.post(\"https://ccba-35-224-242-176.ngrok-free.app\", params={\"p\": key_words})\n",
        "    print(response)\n",
        "    if response.status_code == 200:\n",
        "        content = response.json()\n",
        "        st.markdown(content, unsafe_allow_html=True)\n",
        "    else:\n",
        "        st.error(\"Error occurred while calling the API\")"
      ]
    },
    {
      "cell_type": "code",
      "execution_count": null,
      "metadata": {
        "colab": {
          "base_uri": "https://localhost:8080/"
        },
        "id": "7lIBUZik_29Y",
        "outputId": "544fd1a6-456b-42f1-a500-958e65da2453"
      },
      "outputs": [
        {
          "output_type": "stream",
          "name": "stdout",
          "text": [
            "34.148.224.37\n"
          ]
        }
      ],
      "source": [
        "!curl ipv4.icanhazip.com"
      ]
    },
    {
      "cell_type": "code",
      "execution_count": null,
      "metadata": {
        "id": "EbHstpz1AGBt"
      },
      "outputs": [],
      "source": [
        "!npm install localtunnel\n",
        "!streamlit run app.py &>/content/logs.txt &\n",
        "!npx localtunnel --port 8501"
      ]
    }
  ],
  "metadata": {
    "colab": {
      "provenance": [],
      "authorship_tag": "ABX9TyNSt858DXprQuK64Xk5cnao",
      "include_colab_link": true
    },
    "kernelspec": {
      "display_name": "Python 3",
      "name": "python3"
    },
    "language_info": {
      "name": "python"
    }
  },
  "nbformat": 4,
  "nbformat_minor": 0
}